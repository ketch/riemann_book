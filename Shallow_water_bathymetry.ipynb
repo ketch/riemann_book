{
 "cells": [
  {
   "cell_type": "markdown",
   "metadata": {},
   "source": [
    "# Shallow water with bathymetry"
   ]
  },
  {
   "cell_type": "markdown",
   "metadata": {},
   "source": [
    "In this notebook we study the Riemann problem for the shallow water equations in the presence of varying bathymetry.  Specifically, we consider the case in which the elevation of the bottom is piecewise constant with a jump at $x=0$.  Thus the Riemann problem consists of the shallow water equations, including an additional term in the momentum equation (corresponding to the bathymetry):\n",
    "\\begin{align}\n",
    "    h_t + (hu)_x & = 0 \\\\\n",
    "    (hu)_t + \\left(hu^2 + \\frac{1}{2}gh^2\\right)_x & = -ghb_x,\n",
    "\\end{align}\n",
    "together with initial data\n",
    "\\begin{align}\n",
    "    (h(x,0),u(x,0)) & = \\begin{cases} (h_l, u_l) & x<0 \\\\ (h_r, u_r) & x>0  \\end{cases}\n",
    "\\end{align}\n",
    "and bathymetry\n",
    "$$b(x) = \\begin{cases} b_l & x<0 \\\\ b_r & x>0 \\end{cases}.$$"
   ]
  },
  {
   "cell_type": "markdown",
   "metadata": {},
   "source": [
    "## Stationary wave at $x=0$"
   ]
  },
  {
   "cell_type": "markdown",
   "metadata": {},
   "source": [
    "The source term owing to the bathymetry is (like that introduced to represent traffic flow from an on-ramp) singular: since the bathymetry $b(x)$ is discontinuous at $x=0$, the term $b_x$ is given by a delta-function:  \n",
    "$$b_x = (b_r-b_l)\\delta(x) = \\Delta b \\delta(x).$$  \n",
    "Based on what we have learned in earlier chapters, it is natural to expect that the Riemann solution will include a stationary jump at $x=0$, due to this singular source term.  What are the appropriate jump conditions for thiw wave?  As usual, we would like to impose continuity of the flux at $x=0$, which for the first equation gives  \n",
    "$$h_- u_- = h_+ u_+.$$  \n",
    "where e.g. $h_\\pm$ denote the limiting values of $h$ as $x\\to0$ from the right and left.\n",
    "The other appropriate condition is evidently\n",
    "\\begin{align} \\label{h_ave}\n",
    "    h_+ u_+^2 - h_- u_-^2 + \\frac{1}{2}g(h_+^2-h_-^2) = -g\\Delta b \\tilde{h},\n",
    "\\end{align}\n",
    "but it is unclear what value should be used for $\\tilde{h}$.\n",
    "The source term involves the product of a delta function ($b_x$) and a discontinuous function ($h$).  The product of these two functions has no clear definition.  What is the second jump condition that should be imposed at $x=0$?\n",
    "\n",
    "The answer is still a matter of debate, and is unclear from both a mathematical perspective (as just mentioned) and from a physical perspective, since the shallow water assumption that a column of fluid has a single uniform velocity must break down near a bathymetry jump."
   ]
  },
  {
   "cell_type": "markdown",
   "metadata": {},
   "source": [
    "### Hydrostatic approach"
   ]
  },
  {
   "cell_type": "markdown",
   "metadata": {},
   "source": [
    "Here we will take a natural condition that has been proposed in the literature.  That is that the momentum flux on either side of $x=0$ should be equal, after taking into account the fact that the bathymetry on the higher side supports part of the pressure of the water on the lower side.  For concreteness, suppose that $b_r > b_l$.  Then we impose\n",
    "$$h_- u_-^2 + \\frac{1}{2}g(h_- - (b_r-b_l))^2 = h_+ u_+^2 + \\frac{1}{2}gh_+^2.$$\n",
    "This expression can also be written\n",
    "$$h_+ u_+^2 - h_- u_-^2 + \\frac{1}{2}g(h_+^2-h_-^2) = -g(h_- - \\Delta b/2)\\Delta b ,$$\n",
    "which has the form of \\eqref{h_ave} above with $\\tilde{h} = h_- - \\Delta b/2$."
   ]
  },
  {
   "cell_type": "markdown",
   "metadata": {},
   "source": [
    "### Approach of Alcrudo et. al."
   ]
  },
  {
   "cell_type": "markdown",
   "metadata": {},
   "source": [
    "$$h_+ - h_- + \\frac{1}{2g}(u_+^2 - u_-^2) + \\Delta b = 0$$\n",
    "This can also be written\n",
    "$$ \\frac{\\tilde{h}}{2}(u_+^2 - u_-^2) + \\frac{g}{2} (h_+^2 - h_-^2) = - g \\tilde{h}\\Delta b$$\n",
    "where $\\tilde{h}$ is the arithmetic average $(h_++h_-)/2$."
   ]
  },
  {
   "cell_type": "markdown",
   "metadata": {},
   "source": [
    "### Smooth steady state approach (George)"
   ]
  },
  {
   "cell_type": "markdown",
   "metadata": {},
   "source": [
    "D. George (citation) showed that any two steady states in a smooth steady state solution satisfy  \n",
    "$$h_+ u_+^2 - h_- u_-^2 + \\frac{1}{2}g(h_+^2-h_-^2) = -g\\Delta b \\tilde{h},$$  \n",
    "where\n",
    "$$\\tilde{h} = \\frac{h_+ + h_-}{2} \\frac{\\widetilde{\\lambda^+ \\lambda^-}}{\\overline{\\lambda^+ \\lambda^-}}$$\n",
    "with\n",
    "$$\\overline{\\lambda^+ \\lambda^-} = \\left(\\frac{u_+ + u_-}{2}\\right)^2 - g \\frac{h_+ + h_-}{2}$$\n",
    "and\n",
    "$$\\widetilde{\\lambda^+ \\lambda^-} = \\max(0,u_+ u_-) - g \\frac{h_+ + h_-}{2}.$$\n",
    "This is equivalent to the approach of Alcrudo above (I think)."
   ]
  },
  {
   "cell_type": "markdown",
   "metadata": {},
   "source": [
    "## Resonance"
   ]
  },
  {
   "cell_type": "markdown",
   "metadata": {},
   "source": [
    "We expect that the Riemann solution will consist of two genuinely nonlinear waves (as in the case of the shallow water equations with flat bathymetry) and the stationary wave just described.  However, as we have seen in the chapter on traffic with a variable speed limit, these waves can interact in more interesting ways.  Note that we can write the SW with bathymetry system as a system of three equations:\n",
    "\\begin{align}\n",
    "    h_t + (hu)_x & = 0 \\\\\n",
    "    (hu)_t + \\left(hu^2 + \\frac{1}{2}gh^2\\right)_x & = \\frac{1}{2}ghb_x \\\\\n",
    "    b_t & = 0.\n",
    "\\end{align}\n",
    "Here we have added the bathymetry as a third conserved quantity.  The above system can be written as a homogeneous quasilinear hyperbolic system $q_t + A(q)q_x = 0$, with $q=[h,hu,b]^T$.  The eigenvalues of $A(q)$ are then\n",
    "$$\\lambda = u-\\sqrt{gh}, 0, u+\\sqrt{gh}.$$\n",
    "This is exactly what we'd expect: the non-zero eigenvalues are the characteristic speeds present in the homogeneous shallow water system, while the zero eigenvalue corresponds to the stationary wave.  However, notice that the ordering of the eigenvalues is not fixed, since the values $u\\pm\\sqrt{gh}$ can be positive or negative depending on the nature of the flow.  In particular, these values can pass through zero, in which case the quasilinear system is not strictly hyperbolic -- it has a repeated eigenvalue.  This leads to the phenomenon of resonance, in which a transcritical rarefaction wave is split by the stationary wave into two waves.  One of them is a rarefaction, while the other may be a rarefaction or a shock (just as we saw in the case of the traffic flow model with varying speed limit).\n",
    "\n",
    "Thus in general the Riemann solution may consist of as many as four waves."
   ]
  },
  {
   "cell_type": "markdown",
   "metadata": {},
   "source": [
    "## Examples"
   ]
  },
  {
   "cell_type": "code",
   "execution_count": null,
   "metadata": {},
   "outputs": [],
   "source": [
    "%matplotlib inline\n",
    "from exact_solvers import shallow_water_bathymetry as swb\n",
    "import numpy as np\n",
    "import matplotlib.pyplot as plt\n",
    "from utils import riemann_tools"
   ]
  },
  {
   "cell_type": "code",
   "execution_count": null,
   "metadata": {},
   "outputs": [],
   "source": [
    "def c1(q, xi, g=1.):\n",
    "    \"Characteristic speed for shallow water 1-waves.\"\n",
    "    h = q[0]\n",
    "    if h > 0:\n",
    "        u = q[1]/q[0]\n",
    "        return u - np.sqrt(g*h)\n",
    "    else:\n",
    "        return 0\n",
    "\n",
    "def c2(q, xi, g=1.):\n",
    "    \"Characteristic speed for shallow water 2-waves.\"\n",
    "    h = q[0]\n",
    "    if h > 0:\n",
    "        u = q[1]/q[0]\n",
    "        return u + np.sqrt(g*h)\n",
    "    else:\n",
    "        return 0"
   ]
  },
  {
   "cell_type": "markdown",
   "metadata": {},
   "source": [
    "### Subcritical cases"
   ]
  },
  {
   "cell_type": "code",
   "execution_count": null,
   "metadata": {},
   "outputs": [],
   "source": [
    "b_l = 0.\n",
    "b_r = 1.\n",
    "h_l = 2.-b_l\n",
    "h_r = 1.5-b_r\n",
    "u_l = 1.\n",
    "u_r = -1.\n",
    "g=1.\n",
    "\n",
    "q_l = np.array([h_l,h_l*u_l])\n",
    "q_r = np.array([h_r,h_r*u_r])\n",
    "states, speeds, reval, wave_types = swb.exact_riemann_solution(q_l, q_r, b_l, b_r, g=g, which='hydrostatic')\n",
    "states, speeds, reval_d, wave_types = swb.exact_riemann_solution(q_l, q_r, b_l, b_r, g=g, which='alcrudo')\n",
    "fig, axes = plt.subplots(1,2,figsize=(14,4))\n",
    "riemann_tools.plot_waves(states,speeds,reval,wave_types,t_pointer=False,ax=axes[0])\n",
    "xi = np.linspace(-5,5,500)\n",
    "axes[1].plot(xi,reval(xi)[0]+(xi>0),xi,reval_d(xi)[0]+(xi>0));\n",
    "plt.legend(['Hydrostatic','Alcrudo']);"
   ]
  },
  {
   "cell_type": "code",
   "execution_count": null,
   "metadata": {},
   "outputs": [],
   "source": [
    "b_l = 0.\n",
    "b_r = 1.\n",
    "h_l = 1.3-b_l\n",
    "h_r = 1.2-b_r\n",
    "u_l = 0.\n",
    "u_r = 0.2\n",
    "g=1.\n",
    "\n",
    "q_l = np.array([h_l,h_l*u_l])\n",
    "q_r = np.array([h_r,h_r*u_r])\n",
    "states, speeds, reval, wave_types = swb.exact_riemann_solution(q_l, q_r, b_l, b_r, g=g, which='hydrostatic')\n",
    "states, speeds, reval_d, wave_types = swb.exact_riemann_solution(q_l, q_r, b_l, b_r, g=g, which='alcrudo')\n",
    "fig, axes = plt.subplots(1,2,figsize=(14,4))\n",
    "riemann_tools.plot_waves(states,speeds,reval,wave_types,t_pointer=False,ax=axes[0])\n",
    "xi = np.linspace(-5,5,500)\n",
    "axes[1].plot(xi,reval(xi)[0]+(xi>0),xi,reval_d(xi)[0]+(xi>0));\n",
    "plt.legend(['Hydrostatic','Alcrudo']);"
   ]
  },
  {
   "cell_type": "markdown",
   "metadata": {},
   "source": [
    "### Resonant cases"
   ]
  },
  {
   "cell_type": "code",
   "execution_count": null,
   "metadata": {},
   "outputs": [],
   "source": [
    "b_l = 0.\n",
    "b_r = 1.\n",
    "h_l = 2.-b_l\n",
    "h_r = 2.-b_r\n",
    "u_l = 0.\n",
    "u_r = 2.\n",
    "g = 1.\n",
    "\n",
    "q_l = np.array([h_l,h_l*u_l])\n",
    "q_r = np.array([h_r,h_r*u_r])\n",
    "states, speeds, reval, wave_types = swb.exact_riemann_solution(q_l, q_r, b_l, b_r, g=g, which='hydrostatic')\n",
    "states, speeds, reval_d, wave_types = swb.exact_riemann_solution(q_l, q_r, b_l, b_r, g=g, which='alcrudo')\n",
    "fig, axes = plt.subplots(1,2,figsize=(14,4))\n",
    "riemann_tools.plot_waves(states,speeds,reval,wave_types,t_pointer=False,ax=axes[0])\n",
    "xi = np.linspace(-5,5,500)\n",
    "axes[1].plot(xi,reval(xi)[0]+(xi>0),xi,reval_d(xi)[0]+(xi>0));\n",
    "plt.legend(['Hydrostatic','Alcrudo']);"
   ]
  },
  {
   "cell_type": "code",
   "execution_count": null,
   "metadata": {},
   "outputs": [],
   "source": [
    "b_l = 0.\n",
    "b_r = 1.\n",
    "h_l = 2.-b_l\n",
    "h_r = 1.5-b_r\n",
    "u_l = 1.4\n",
    "u_r = 2.0\n",
    "g=1.\n",
    "\n",
    "q_l = np.array([h_l,h_l*u_l])\n",
    "q_r = np.array([h_r,h_r*u_r])\n",
    "states, speeds, reval, wave_types = swb.exact_riemann_solution(q_l, q_r, b_l, b_r, g=g, which='hydrostatic')\n",
    "states, speeds, reval_d, wave_types = swb.exact_riemann_solution(q_l, q_r, b_l, b_r, g=g, which='alcrudo')\n",
    "fig, axes = plt.subplots(1,2,figsize=(14,4))\n",
    "riemann_tools.plot_waves(states,speeds,reval,wave_types,t_pointer=False,ax=axes[0])\n",
    "xi = np.linspace(-5,5,500)\n",
    "axes[1].plot(xi,reval(xi)[0]+(xi>0),xi,reval_d(xi)[0]+(xi>0));\n",
    "plt.legend(['Hydrostatic','Alcrudo'])"
   ]
  },
  {
   "cell_type": "markdown",
   "metadata": {},
   "source": [
    "### Supercritical cases"
   ]
  },
  {
   "cell_type": "code",
   "execution_count": null,
   "metadata": {},
   "outputs": [],
   "source": [
    "b_l = 0.\n",
    "b_r = 1.\n",
    "h_l = 2.-b_l\n",
    "h_r = 2.-b_r\n",
    "u_l = 3.\n",
    "u_r = 0.\n",
    "g=1.\n",
    "\n",
    "q_l = np.array([h_l,h_l*u_l])\n",
    "q_r = np.array([h_r,h_r*u_r])\n",
    "states, speeds, reval, wave_types = swb.exact_riemann_solution(q_l, q_r, b_l, b_r, g=g, which='hydrostatic')\n",
    "states, speeds, reval_d, wave_types = swb.exact_riemann_solution(q_l, q_r, b_l, b_r, g=g, which='alcrudo')\n",
    "fig, axes = plt.subplots(1,2,figsize=(14,4))\n",
    "riemann_tools.plot_waves(states,speeds,reval,wave_types,t_pointer=False,ax=axes[0])\n",
    "xi = np.linspace(-5,5,500)\n",
    "axes[1].plot(xi,reval(xi)[0]+(xi>0),xi,reval_d(xi)[0]+(xi>0));\n",
    "plt.legend(['Hydrostatic','Alcrudo']);"
   ]
  },
  {
   "cell_type": "code",
   "execution_count": null,
   "metadata": {},
   "outputs": [],
   "source": [
    "b_l = 0.\n",
    "b_r = 1.\n",
    "h_l = 2.-b_l\n",
    "h_r = 5.-b_r\n",
    "u_l = 3.\n",
    "u_r = 2.\n",
    "g=1.\n",
    "\n",
    "q_l = np.array([h_l,h_l*u_l])\n",
    "q_r = np.array([h_r,h_r*u_r])\n",
    "states, speeds, reval, wave_types = swb.exact_riemann_solution(q_l, q_r, b_l, b_r, g=g, which='hydrostatic')\n",
    "states, speeds, reval_d, wave_types = swb.exact_riemann_solution(q_l, q_r, b_l, b_r, g=g, which='alcrudo')\n",
    "fig, axes = plt.subplots(1,2,figsize=(14,4))\n",
    "riemann_tools.plot_waves(states,speeds,reval,wave_types,t_pointer=False,ax=axes[0])\n",
    "xi = np.linspace(-5,5,500)\n",
    "axes[1].plot(xi,reval(xi)[0]+(xi>0),xi,reval_d(xi)[0]+(xi>0));\n",
    "plt.legend(['Hydrostatic','Alcrudo']);"
   ]
  },
  {
   "cell_type": "code",
   "execution_count": null,
   "metadata": {},
   "outputs": [],
   "source": [
    "b_l = 0.\n",
    "b_r = 1.\n",
    "h_l = 2.-b_l\n",
    "h_r = 2.-b_r\n",
    "u_l = 2.\n",
    "u_r = 4.\n",
    "g = 1.\n",
    "\n",
    "states, speeds, wave_types = swb.predictor(h_l, h_r, u_l, u_r, b_l, b_r, g=1.)\n",
    "print(speeds)"
   ]
  },
  {
   "cell_type": "markdown",
   "metadata": {},
   "source": [
    "## A problematic case"
   ]
  },
  {
   "cell_type": "markdown",
   "metadata": {},
   "source": [
    "First solution; this seems to violate the energy condition (see Rosetti) when the hydrostatic interface condition is used."
   ]
  },
  {
   "cell_type": "code",
   "execution_count": null,
   "metadata": {},
   "outputs": [],
   "source": [
    "b_l = 0.\n",
    "b_r = 1.\n",
    "h_l = 2.-b_l\n",
    "h_r = 1.5-b_r\n",
    "u_l = 3.\n",
    "u_r = 3.\n",
    "g=1.\n",
    "\n",
    "q_l = np.array([h_l,h_l*u_l])\n",
    "q_r = np.array([h_r,h_r*u_r])\n",
    "states, speeds, reval, wave_types = swb.exact_riemann_solution(q_l, q_r, b_l, b_r, g=g, which='hydrostatic')\n",
    "states, speeds, reval_d, wave_types = swb.exact_riemann_solution(q_l, q_r, b_l, b_r, g=g, which='alcrudo')\n",
    "fig, axes = plt.subplots(1,2,figsize=(14,4))\n",
    "riemann_tools.plot_waves(states,speeds,reval,wave_types,t_pointer=False,ax=axes[0])\n",
    "xi = np.linspace(-5,5,500)\n",
    "axes[1].plot(xi,reval(xi)[0]+(xi>0),xi,reval_d(xi)[0]+(xi>0));\n",
    "plt.legend(['Hydrostatic','Alcrudo']);"
   ]
  },
  {
   "cell_type": "code",
   "execution_count": null,
   "metadata": {},
   "outputs": [],
   "source": [
    "h, hu = reval([-0.01])\n",
    "h = h[0]; hu=hu[0]\n",
    "u = hu/h\n",
    "c1 = u-np.sqrt(g*h)\n",
    "print('State just to left of x=0')\n",
    "print('lambda 1: ',c1)\n",
    "print('E :', 0.5*u**2+h+b_l)\n",
    "print('u :', u)"
   ]
  },
  {
   "cell_type": "code",
   "execution_count": null,
   "metadata": {},
   "outputs": [],
   "source": [
    "h, hu = reval([0.01])\n",
    "h = h[0]; hu=hu[0]\n",
    "u = hu/h\n",
    "c1 = u-np.sqrt(g*h)\n",
    "print('State just to right of x=0')\n",
    "print('lambda 1: ',c1)\n",
    "print('E :', 0.5*u**2+h+b_l)\n",
    "print('u :', u)"
   ]
  },
  {
   "cell_type": "markdown",
   "metadata": {},
   "source": [
    "Second solution: this seems to satisfy the energy condition of Rosetti."
   ]
  },
  {
   "cell_type": "code",
   "execution_count": null,
   "metadata": {},
   "outputs": [],
   "source": [
    "states, speeds, reval, wave_types = swb.exact_riemann_solution(q_l, q_r, b_l, b_r, g=g, \n",
    "                                                               which='hydrostatic',perturb_guess=True)\n",
    "states, speeds, reval_d, wave_types = swb.exact_riemann_solution(q_l, q_r, b_l, b_r, g=g, \n",
    "                                                                 which='alcrudo',perturb_guess=True)\n",
    "fig, axes = plt.subplots(1,2,figsize=(14,4))\n",
    "riemann_tools.plot_waves(states,speeds,reval,wave_types,t_pointer=False,ax=axes[0])\n",
    "xi = np.linspace(-5,5,500)\n",
    "axes[1].plot(xi,reval(xi)[0]+(xi>0),xi,reval_d(xi)[0]+(xi>0));\n",
    "plt.legend(['Hydrostatic','Alcrudo']);"
   ]
  },
  {
   "cell_type": "code",
   "execution_count": null,
   "metadata": {},
   "outputs": [],
   "source": [
    "h, hu = reval([-0.01])\n",
    "h = h[0]; hu=hu[0]\n",
    "u = hu/h\n",
    "c1 = u-np.sqrt(g*h)\n",
    "print('State just to left of x=0')\n",
    "print('lambda 1: ',c1)\n",
    "print('E :', 0.5*u**2+h+b_l)\n",
    "print('u :', u)"
   ]
  },
  {
   "cell_type": "code",
   "execution_count": null,
   "metadata": {},
   "outputs": [],
   "source": [
    "h, hu = reval([0.01])\n",
    "h = h[0]; hu=hu[0]\n",
    "u = hu/h\n",
    "c1 = u-np.sqrt(g*h)\n",
    "print('State just to right of x=0')\n",
    "print('lambda 1: ',c1)\n",
    "print('E :', 0.5*u**2+h+b_l)\n",
    "print('u :', u)"
   ]
  },
  {
   "cell_type": "markdown",
   "metadata": {},
   "source": [
    "Note that both solutions seem fine from the Alcrudo/George perspective (as far as I understand)."
   ]
  },
  {
   "cell_type": "code",
   "execution_count": null,
   "metadata": {},
   "outputs": [],
   "source": []
  }
 ],
 "metadata": {
  "kernelspec": {
   "display_name": "Python 2",
   "language": "python",
   "name": "python2"
  },
  "language_info": {
   "codemirror_mode": {
    "name": "ipython",
    "version": 2
   },
   "file_extension": ".py",
   "mimetype": "text/x-python",
   "name": "python",
   "nbconvert_exporter": "python",
   "pygments_lexer": "ipython2",
   "version": "2.7.13"
  },
  "toc": {
   "nav_menu": {},
   "number_sections": true,
   "sideBar": true,
   "skip_h1_title": false,
   "toc_cell": false,
   "toc_position": {},
   "toc_section_display": "block",
   "toc_window_display": false
  }
 },
 "nbformat": 4,
 "nbformat_minor": 2
}
