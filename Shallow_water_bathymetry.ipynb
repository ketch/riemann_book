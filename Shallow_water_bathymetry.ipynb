{
 "cells": [
  {
   "cell_type": "code",
   "execution_count": null,
   "metadata": {
    "collapsed": false
   },
   "outputs": [],
   "source": [
    "%matplotlib inline\n",
    "from exact_solvers import shallow_water_bathymetry\n",
    "import numpy as np\n",
    "import matplotlib.pyplot as plt"
   ]
  },
  {
   "cell_type": "code",
   "execution_count": null,
   "metadata": {
    "collapsed": false
   },
   "outputs": [],
   "source": [
    "b_l = 0.\n",
    "b_r = 1.\n",
    "h_l = 1.3-b_l\n",
    "h_r = 1.2-b_r\n",
    "u_l = -0.\n",
    "u_r = 0.2"
   ]
  },
  {
   "cell_type": "code",
   "execution_count": null,
   "metadata": {},
   "outputs": [],
   "source": [
    "states, speeds, wave_types = shallow_water_bathymetry.predictor(h_l, h_r, u_l, u_r, b_l, b_r, g=1.)\n",
    "states, speeds, reval, wave_types = shallow_water_bathymetry.corrector(states,speeds,b_l,b_r, g=1.)\n",
    "print 'States: '\n",
    "print states\n",
    "print 'Speeds: '\n",
    "print speeds\n",
    "print wave_types"
   ]
  },
  {
   "cell_type": "code",
   "execution_count": null,
   "metadata": {},
   "outputs": [],
   "source": [
    "x=np.linspace(-1,1,1000)\n",
    "t = 0.2\n",
    "q = reval(x/t)\n",
    "surf = q[0]+b_l*(x<0)+b_r*(x>0)\n",
    "plt.plot(x,surf,'-k');"
   ]
  },
  {
   "cell_type": "code",
   "execution_count": null,
   "metadata": {
    "collapsed": false
   },
   "outputs": [],
   "source": []
  },
  {
   "cell_type": "code",
   "execution_count": null,
   "metadata": {
    "collapsed": false
   },
   "outputs": [],
   "source": []
  }
 ],
 "metadata": {
  "kernelspec": {
   "display_name": "Python 2",
   "language": "python",
   "name": "python2"
  },
  "language_info": {
   "codemirror_mode": {
    "name": "ipython",
    "version": 2
   },
   "file_extension": ".py",
   "mimetype": "text/x-python",
   "name": "python",
   "nbconvert_exporter": "python",
   "pygments_lexer": "ipython2",
   "version": "2.7.13"
  }
 },
 "nbformat": 4,
 "nbformat_minor": 2
}
