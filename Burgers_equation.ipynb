{
 "cells": [
  {
   "cell_type": "markdown",
   "metadata": {
    "deletable": true,
    "editable": true
   },
   "source": [
    "# Burgers' equation"
   ]
  },
  {
   "cell_type": "code",
   "execution_count": null,
   "metadata": {
    "deletable": true,
    "editable": true
   },
   "outputs": [],
   "source": [
    "%matplotlib inline\n",
    "%config InlineBackend.figure_format = 'svg'\n",
    "import matplotlib as mpl\n",
    "mpl.rcParams['font.size'] = 8\n",
    "figsize =(8,4)\n",
    "mpl.rcParams['figure.figsize'] = figsize\n",
    "import matplotlib.pyplot as plt\n",
    "import numpy as np\n",
    "from ipywidgets import interact\n",
    "from ipywidgets import widgets\n",
    "from utils import riemann_tools\n",
    "from exact_solvers import burgers"
   ]
  },
  {
   "cell_type": "markdown",
   "metadata": {},
   "source": [
    "Burgers' equation is one of the simplest examples of a nonlinear conservation law given by\n",
    "\n",
    "\\begin{align}\n",
    "q_t + \\left(\\frac{1}{2}q^2\\right)_x = 0.\n",
    "\\label{burgers0}\n",
    "\\end{align}\n",
    "\n",
    "This is actually the invscid Burgers' equation since Burgers originally studied the viscous equation $q_t + \\left(\\frac{1}{2}q^2\\right)_x = \\epsilon q_{xx}$. Equation \\eqref{burgers0} models momentum transport in a fluid of uniform density and pressure, and it is the simplest equation that captures some key features of gas dynamics.  It has been used extensively for developing both theory and numerical methods, and will allow us to explore the essentials of the Riemann problem for nonlinear conservation laws."
   ]
  },
  {
   "cell_type": "markdown",
   "metadata": {},
   "source": [
    "## Shock formation"
   ]
  },
  {
   "cell_type": "markdown",
   "metadata": {},
   "source": [
    "Burgers' equation is a scalar conservation law with the nonlinear flux term $f(q)=q^2/2$. The quasilinear form is obtained by applying the chain rule to differentiate the flux term,\n",
    "\\begin{align*}\n",
    "q_t + qq_x = 0.\n",
    "\\end{align*}\n",
    "\n",
    "This equation looks very similar to an advection equation with the exception that the advection speed is given by the value $q$. This is similar to the traffic flow equation but with a different flux. The nonlinearity in the Burgers flux term is essentially the same as in the momentum conservation equation in fluid dynamics, so studying its dynamics provides a guideline to understand more complex fluid dynamics.\n",
    "\n",
    "One way to think about this equation is to assume $q$ is the height of an ocean wave as it approaches the beach. The equation tells us that peak of the wave propagate faster than the trough. In the next figure, we show a solution at two different times for to illustrate this behavior."
   ]
  },
  {
   "cell_type": "markdown",
   "metadata": {},
   "source": [
    "![Burgers_bump.](./figures/burgers_bump.png)"
   ]
  },
  {
   "cell_type": "markdown",
   "metadata": {},
   "source": [
    "Notice that at first $q$ remains univalued for every $x$. However, after some time the crest of the wave overtakes the leading edge.  After this time, we obtain a triple-valued solution.  The first time this overtaking happens is referred to as the breaking time -- a reference to waves breaking on the beach. It is also the point where the conservation law, in its differential form, breaks down and where the characteristics cross each other for the first time. However, to understand what should physically happen at this point, we can solve the viscous Burgers equation while taking vanishing viscosity. What we observe is that a discontinuity in the form of a shock is formed, as shown below.   "
   ]
  },
  {
   "cell_type": "markdown",
   "metadata": {},
   "source": [
    "![Burgers_eqarea.](./figures/burgers_equal_area.png)"
   ]
  },
  {
   "cell_type": "markdown",
   "metadata": {},
   "source": [
    "As we know the physical solution should be a shock, the question now is where should we place the discontinuity. As we are talking about conservation, it seems sensitive you want to conserve the amount of $q$, so the disconitnuity should be placed such that the areas $A_1$ and $A_2$ are the same. If we zoom in the region where the shock is generated, we can think of the $q$ profile as an specific initial condition for the Riemann problem, where the left and right constant values satisty $q_l>q_r$. Using the integral form of the conservation law, we can find the shock speed such that conservation is enforced. This simply yields the Rankine-Hugoniot condition for the Burgers' eq."
   ]
  },
  {
   "cell_type": "markdown",
   "metadata": {},
   "source": [
    "\\begin{align*}\n",
    "s(q_r-q_l) &= \\frac{1}{2} (q_r^2 - q_l^2),\\\\\n",
    "\\Rightarrow \\ \\ \\ \\ s &= \\frac{1}{2}(q_l + q_r).\n",
    "\\end{align*}"
   ]
  },
  {
   "cell_type": "markdown",
   "metadata": {
    "deletable": true,
    "editable": true
   },
   "source": [
    "where $s$ is the speed of the shock. This result is analogous to the one derived in the traffic flow equations. As a matter of fact shocks from any nonlinear scalar conservation laws must satisfy the Rankine-Hugoniot condition, $f(\\rho_l) - f(\\rho_r) = s(\\rho_l - \\rho_r)$. We have just solved the Riemann problem for the Burgers' equation with $q_l>q_r$, and the physical solution is a shock propagating with speed $s$ (shown in the right figure above),\n",
    "\n",
    "\\begin{align*}\n",
    "q(x,t) = \n",
    "\\begin{cases}\n",
    "q_l \\quad \\text{if} \\ \\ x/t<s \\\\\n",
    "q_r \\quad \\text{if} \\ \\ x/t>s.\n",
    "\\end{cases}\n",
    "\\end{align*}"
   ]
  },
  {
   "cell_type": "markdown",
   "metadata": {
    "deletable": true,
    "editable": true
   },
   "source": [
    "### Shock solution\n",
    "We will now plot the solution of the Burgers' equation when shocks are formed, i.e. when $q_l>q_r$. We first define an interactive plotting function for the exact solver and then we choose the initial conditions and plot the solution. "
   ]
  },
  {
   "cell_type": "code",
   "execution_count": null,
   "metadata": {
    "deletable": true,
    "editable": true
   },
   "outputs": [],
   "source": [
    "def plot_riemann_solution(ql, qr):\n",
    "    states, speeds, reval, wave_type = burgers.exact_riemann_solution(ql ,qr)\n",
    "\n",
    "    plot_function = riemann_tools.make_plot_function(states, speeds, reval, wave_type, layout='horizontal',\n",
    "                                                    variable_names=['q'],\n",
    "                                                    plot_chars=[burgers.speed])\n",
    "\n",
    "    return interact(plot_function, t=widgets.FloatSlider(value=0.0,min=0,max=1.0),\n",
    "                    which_char=widgets.Checkbox(value=True,description='Show characteristics'));"
   ]
  },
  {
   "cell_type": "code",
   "execution_count": null,
   "metadata": {
    "deletable": true,
    "editable": true
   },
   "outputs": [],
   "source": [
    "ql = 5.0\n",
    "qr = 1.0\n",
    "plot_riemann_solution(ql,qr);"
   ]
  },
  {
   "cell_type": "markdown",
   "metadata": {
    "deletable": true,
    "editable": true
   },
   "source": [
    "One can try different values of $q_l$ and $q_r$, and the solution will always be a shock as long as $q_l>q_r$ (even for negative values). We now how to solve the Riemann problem when $q_l>q_r$; however, we still need to solve the problem when $q_l<q_r$."
   ]
  },
  {
   "cell_type": "markdown",
   "metadata": {
    "deletable": true,
    "editable": true
   },
   "source": [
    "## Rarefaction wave"
   ]
  },
  {
   "cell_type": "markdown",
   "metadata": {
    "deletable": true,
    "editable": true
   },
   "source": [
    "In the previous figure with the hump as initial condition, we observed a shock formed on the right side of the hump. However, on the left side, the characteristics are spreading out and will never cross, so the solution is extended and rarefied. The solution in this part is therefore a rarefaction wave, and this is the kind of behavior we will observe when $q_l<q_r$.\n",
    "In the next figure, we set the Riemann's problem initial condition (dashed line) as $q_l$ for $x<0$ and $q_r$ for $x>0$. As time evolves, a rarefaction forms following the advection speed $q$ given by the quasi-linear equation. Therefore, for time $t$, the solution must propagate a distance $x=qt$, so the solution along the rarefaction is then $q = x/t$. As $q_l<q_r$, the smallest and largest displacements are given by $q_l t$ and $q_r t$, respectively. "
   ]
  },
  {
   "cell_type": "markdown",
   "metadata": {
    "deletable": true,
    "editable": true
   },
   "source": [
    "![Burgers_rarefaction.](./figures/burgers_rar.png)"
   ]
  },
  {
   "cell_type": "markdown",
   "metadata": {
    "deletable": true,
    "editable": true
   },
   "source": [
    "The full rarefaction solution for the Burgers' Riemann problem is then simply given by \n",
    "\\begin{align*}\n",
    "q(x,t) = \n",
    "\\begin{cases}\n",
    "q_l, \\quad \\text{for} \\ \\ x<q_l t \\\\\n",
    "\\frac{x}{t}, \\quad \\text{for} \\ \\ q_l t \\le x \\le q_r t \\\\\n",
    "q_r, \\quad \\text{for} \\ \\ x>q_r t.\n",
    "\\end{cases}\n",
    "\\end{align*}\n",
    "\n",
    "As we will see in the next chapter, the rarefaction solution is always a self-similar solution. This means that it can be expressed as a function of the ratio between position and time $q(x,t) = \\tilde{q}(x/t)$, so it remains the same when rescaling both $x$ and $t$ by the same factor. This is a consequence of $q$ being the same along the characteristic in the rarefaction fan. In the Burgers' equation, the form of the rarefaction is particularly simple since the advection speed is simply $q$."
   ]
  },
  {
   "cell_type": "markdown",
   "metadata": {
    "deletable": true,
    "editable": true
   },
   "source": [
    "### Rarefaction solution\n",
    "In the figure below, we plot solutions of the Riemann problem with $q_l<q_r$. In these cases, we will always observe a rarefaction."
   ]
  },
  {
   "cell_type": "code",
   "execution_count": null,
   "metadata": {
    "deletable": true,
    "editable": true
   },
   "outputs": [],
   "source": [
    "ql = 2.0\n",
    "qr = 4.0\n",
    "plot_riemann_solution(ql,qr);"
   ]
  },
  {
   "cell_type": "markdown",
   "metadata": {
    "deletable": true,
    "editable": true
   },
   "source": [
    "## Weak solutions"
   ]
  },
  {
   "cell_type": "markdown",
   "metadata": {},
   "source": [
    "As we mentioned before, the differential form of the equation breaks down in the presence of shocks/discontinuities.However, the integral form of the conservation law remains valid. We will derive a specific form of the integral conservation law that is particularly useful to prove mathematical results.\n",
    "We first intergate the conservation law $q_t+f(q)_x=0$ from from $x=x_1$ to $x=x_2$ and $t=t_1$ to $t=t_2$\n",
    "\n",
    "\\begin{align*}\n",
    "\\int_{t_1}^{t_2}\\int_{x_1}^{x_2} [q_t+f(q)_x] dx dt = 0,\n",
    "\\label{eq:Burgersintclaw}\n",
    "\\end{align*}\n",
    "\n",
    "where $f(q)=q^2/2$ for Burgers' equation. However, this derivation is general and apply to all nonlinear scalar conservation laws. This equation can be simply rewritten in terms of a function $\\phi(x,t)$ with compact support in $[x_1,x_2]x[t_1,t_2]$ (1 in this region, zero elsewhere),\n",
    "\n",
    "\\begin{align*}\n",
    "\\int_{0}^{\\infty}\\int_{-\\infty}^{\\infty} [q_t+f(q)_x]\\phi(x,t) dx dt = 0.\n",
    "\\end{align*}\n",
    "\n",
    "Integrating by parts we obtain\n",
    "\n",
    "\\begin{align*}\n",
    "\\int_{0}^{\\infty}\\int_{-\\infty}^{\\infty} [q\\phi_t+f(q)\\phi_x] dx dt = -\\int_{-\\infty}^{\\infty}q(x,0)\\phi(x,0)dx,\n",
    "\\end{align*}\n",
    "\n",
    "where now the derivative are in $\\phi(x,t)$ and not in $q$ of $f(q)$, so the equation still makes sense for discontinuous $q$. The function $q(x,t)$ is a weak solution of the conservation law if this equation holds for all functions $\\phi(x,t)$ that are continuously differentiable and with compact support (bump functions). Note this rules out the original interval chosen in Eq. \\ref{eq:Burgersintclaw} since its $\\phi$ would not be smooth. However, we can approximate this function arbitrarily well by a smooth function. Any weak solution is a solution of any form of the integral conservation law and viceversa.\n",
    "\n",
    "The concept of weak solutions are helpful to do mathematical proofs and manipulations. Actually, all the solution previously derived in this chapter are weak solutions of Burgers' equation. However, there is a caveat; weak solutions are not unique.  "
   ]
  },
  {
   "cell_type": "markdown",
   "metadata": {},
   "source": [
    "### An unphysical weak solution\n",
    "\n",
    "We previously mentioned that for Burgers' equation, when $q_l<q_r$, we expect a rarefaction to be correct solution. However, we used our physical intuiton from the characteristics and the advection equation to solve it. Nonetheless, we could assume the solution has a shock/discontinuity and by using the equation in the form of a conservation law derive the Rankine-Hugoniot as previously done. This is mathematically correct and one obtains the same relation as before $s = (q_l + q_r)/2$ for the shock speed, so the solution is simply\n",
    "\n",
    "\\begin{align*}\n",
    "q(x,t) = \n",
    "\\begin{cases}\n",
    "q_l \\quad \\text{if} \\ \\ x/t<s \\\\\n",
    "q_r \\quad \\text{if} \\ \\ x/t>s.\n",
    "\\end{cases}\n",
    "\\end{align*}\n",
    "\n",
    "This unphysical solution is also refered to as expansion shock, and it is also a weak solution to the Burgers' equation. In the next figure, we plot this weak solution.  "
   ]
  },
  {
   "cell_type": "code",
   "execution_count": null,
   "metadata": {},
   "outputs": [],
   "source": [
    "def plot_unphysical_weak_solution(ql, qr):\n",
    "    states, speeds, reval, wave_type = burgers.unphysical_riemann_solution(ql ,qr)\n",
    "\n",
    "    plot_function = riemann_tools.make_plot_function(states, speeds, reval, wave_type, layout='horizontal',\n",
    "                                                    variable_names=['q'],\n",
    "                                                    plot_chars=[burgers.speed])\n",
    "\n",
    "    return interact(plot_function, t=widgets.FloatSlider(value=0.0,min=0,max=1.0),\n",
    "                    which_char=widgets.Checkbox(value=True,description='Show characteristics'));"
   ]
  },
  {
   "cell_type": "code",
   "execution_count": null,
   "metadata": {},
   "outputs": [],
   "source": [
    "ql = 1.0\n",
    "qr = 5.0\n",
    "plot_unphysical_weak_solution(ql,qr);"
   ]
  },
  {
   "cell_type": "markdown",
   "metadata": {},
   "source": [
    "Note the solution is given by a shock, even though $q_l<q_r$. From the characteristics, it is clear that the correct solution should be a rarefaction. In order to be able to specify which of the weak solutions is physically correct, we need to derive a mathematical condition from our physical intutiton gained from oberving the behavior of the characteristics. This condition will be the entropy condition, and it will be explored in future chapters."
   ]
  },
  {
   "cell_type": "markdown",
   "metadata": {
    "deletable": true,
    "editable": true
   },
   "source": [
    "## Examples\n",
    "We can now explore a few more examples that are representative of phenomena we will observe in more complicated systems, as well as a full interactive example."
   ]
  },
  {
   "cell_type": "markdown",
   "metadata": {
    "deletable": true,
    "editable": true
   },
   "source": [
    "### Example 1: Symmetric rarefaction\n",
    "Symmetric rarefactions happen where the characteristic waves spread equally on opposite directions around the origin, and we will observe them in many of the nonlinear systems presented in other chapters. This means there is a point in the center where $q$ (momentum) is effectively zero for all times."
   ]
  },
  {
   "cell_type": "code",
   "execution_count": null,
   "metadata": {
    "deletable": true,
    "editable": true
   },
   "outputs": [],
   "source": [
    "ql = -4.0\n",
    "qr = 4.0\n",
    "plot_riemann_solution(ql,qr);"
   ]
  },
  {
   "cell_type": "markdown",
   "metadata": {
    "deletable": true,
    "editable": true
   },
   "source": [
    "### Example 2: Full interactive solution"
   ]
  },
  {
   "cell_type": "code",
   "execution_count": null,
   "metadata": {
    "deletable": true,
    "editable": true
   },
   "outputs": [],
   "source": [
    "def plot_riemann(q_l,q_r,t,x_range=1):\n",
    "    states, speeds, reval, wave_types = \\\n",
    "            burgers.exact_riemann_solution(q_l,q_r)\n",
    "    ax = riemann_tools.plot_riemann(states,speeds,reval,\n",
    "                                    wave_types,t=t,\n",
    "                                    t_pointer=0,extra_axes=True,\n",
    "                                    variable_names=['q'],\n",
    "                                    xmax=x_range);\n",
    "    riemann_tools.plot_characteristics(reval,burgers.speed,axes=ax[0])\n",
    "    burgers.plot_trajectories(q_l,q_r,ax[2],t=t,xmax=x_range);\n",
    "    ax[1].set_ylim(-0.05,1.05)\n",
    "    for a in ax:\n",
    "        a.set_xlim(-x_range,x_range)\n",
    "    plt.show() "
   ]
  },
  {
   "cell_type": "code",
   "execution_count": null,
   "metadata": {
    "deletable": true,
    "editable": true
   },
   "outputs": [],
   "source": [
    "burgers.plot_interactive_riemann(plot_riemann)"
   ]
  },
  {
   "cell_type": "markdown",
   "metadata": {
    "deletable": true,
    "editable": true
   },
   "source": [
    "### Example 3:Three state solution?"
   ]
  },
  {
   "cell_type": "code",
   "execution_count": null,
   "metadata": {
    "deletable": true,
    "editable": true
   },
   "outputs": [],
   "source": []
  }
 ],
 "metadata": {
  "kernelspec": {
   "display_name": "Python 2",
   "language": "python",
   "name": "python2"
  },
  "language_info": {
   "codemirror_mode": {
    "name": "ipython",
    "version": 2
   },
   "file_extension": ".py",
   "mimetype": "text/x-python",
   "name": "python",
   "nbconvert_exporter": "python",
   "pygments_lexer": "ipython2",
   "version": "2.7.12"
  }
 },
 "nbformat": 4,
 "nbformat_minor": 2
}
